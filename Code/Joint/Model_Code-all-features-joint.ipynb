{
 "cells": [
  {
   "cell_type": "code",
   "execution_count": 1,
   "id": "e7b319da-a4d2-4ceb-90ed-66ad5192c2e8",
   "metadata": {},
   "outputs": [
    {
     "name": "stderr",
     "output_type": "stream",
     "text": [
      "2023-11-29 02:29:32.730399: I tensorflow/core/util/port.cc:110] oneDNN custom operations are on. You may see slightly different numerical results due to floating-point round-off errors from different computation orders. To turn them off, set the environment variable `TF_ENABLE_ONEDNN_OPTS=0`.\n",
      "2023-11-29 02:29:32.733422: I tensorflow/tsl/cuda/cudart_stub.cc:28] Could not find cuda drivers on your machine, GPU will not be used.\n",
      "2023-11-29 02:29:32.801523: I tensorflow/tsl/cuda/cudart_stub.cc:28] Could not find cuda drivers on your machine, GPU will not be used.\n",
      "2023-11-29 02:29:32.802230: I tensorflow/core/platform/cpu_feature_guard.cc:182] This TensorFlow binary is optimized to use available CPU instructions in performance-critical operations.\n",
      "To enable the following instructions: AVX2 AVX512F AVX512_VNNI FMA, in other operations, rebuild TensorFlow with the appropriate compiler flags.\n",
      "2023-11-29 02:29:34.361046: W tensorflow/compiler/tf2tensorrt/utils/py_utils.cc:38] TF-TRT Warning: Could not find TensorRT\n"
     ]
    }
   ],
   "source": [
    "import glob\n",
    "import os\n",
    "import tensorflow as tf\n",
    "from tensorflow import keras\n",
    "from tensorflow.keras import layers\n",
    "from sklearn.decomposition import PCA\n",
    "import numpy as np"
   ]
  },
  {
   "cell_type": "code",
   "execution_count": 2,
   "id": "a2acaed3-0d87-4197-a0f1-6f665357e2b7",
   "metadata": {},
   "outputs": [],
   "source": [
    "def load_shape_info(dir):\n",
    "    import pickle\n",
    "    with open(dir + '/pickleshapes', 'rb') as file:\n",
    "        # Load the data from the file\n",
    "        shapes = pickle.load(file)\n",
    "        return shapes\n",
    "def _lab_labels(all_labels):\n",
    "        #, this is an embedded function called from below\n",
    "        labels = {}\n",
    "        labels['comp_labels'] = tf.one_hot(tf.cast(all_labels[0],tf.int32),3)\n",
    "        labels['amp_labels'] = tf.one_hot(tf.cast(all_labels[1],tf.int32),10)\n",
    "        labels['torque_labels'] = tf.one_hot(tf.cast(all_labels[2],tf.int32),5)\n",
    "        labels['joint_labels'] = tf.one_hot(tf.cast(all_labels[3],tf.int32),3)\n",
    "        return labels        "
   ]
  },
  {
   "cell_type": "code",
   "execution_count": 3,
   "id": "baa445be-82b6-40da-8159-7e4cbe8fe209",
   "metadata": {},
   "outputs": [],
   "source": [
    "def load_tf_data(folder,shape_info):\n",
    "    tf_records = glob.glob(os.path.join(folder, '*.tf'))\n",
    "    dataset = tf.data.TFRecordDataset(tf_records)\n",
    "    def _parse_function(example_proto):\n",
    "        feature_description = {\n",
    "            'ts': tf.io.FixedLenFeature(shape_info[0], tf.float32),\n",
    "            'labels': tf.io.FixedLenFeature(shape_info[1], tf.float32),\n",
    "            'pos_labels': tf.io.FixedLenFeature(shape_info[2], tf.float32)\n",
    "        }\n",
    "        #example = tf.io.parse_single_example(example_proto, feature_description)\n",
    "        example = tf.io.parse_example(example_proto, feature_description)\n",
    "        all_labels = tf.cast(example['labels'], tf.float32)\n",
    "        #all_labels = example['labels']\n",
    "        labels = _lab_labels(all_labels)\n",
    "        if 'pos_labels' in example.keys():\n",
    "            pos_labels = tf.cast(example['pos_labels'], tf.float32)\n",
    "            labels['pos_labels'] = pos_labels\n",
    "        ts = example['ts']\n",
    "        #labels = all_labels\n",
    "        return ts, labels['joint_labels']\n",
    "        #return example['ts'], labels\n",
    "    dataset = dataset.map(_parse_function)\n",
    "    dataset = dataset.batch(batch_size=500, drop_remainder = False)\n",
    "    return dataset"
   ]
  },
  {
   "cell_type": "code",
   "execution_count": 4,
   "id": "8676d07f-20ce-46b9-8b6f-18be371473f3",
   "metadata": {},
   "outputs": [],
   "source": [
    "#dir_base = '/scratch/user/swati/Capstone/'\n",
    "#dir_data = 'RoughCut_Datasets' /\n",
    "dir_base = '/scratch/group/statconsult/Output_hema/'\n",
    "dir_data = 'Data6_Copy/'\n",
    "dir = dir_base + dir_data + '/'\n",
    "train_shape_info = load_shape_info(dir + 'train')\n",
    "test_shape_info = load_shape_info(dir + 'predict')\n",
    "predict_shape_info = load_shape_info(dir + 'validate')\n",
    "train_data = load_tf_data(dir + 'train',train_shape_info)\n",
    "test_data = load_tf_data(dir + 'predict',test_shape_info)\n",
    "predict_data = load_tf_data(dir + 'validate',predict_shape_info)"
   ]
  },
  {
   "cell_type": "code",
   "execution_count": 5,
   "id": "8153a569-b766-4327-8bae-0a1afd16b629",
   "metadata": {},
   "outputs": [
    {
     "name": "stdout",
     "output_type": "stream",
     "text": [
      "Model: \"sequential\"\n",
      "_________________________________________________________________\n",
      " Layer (type)                Output Shape              Param #   \n",
      "=================================================================\n",
      " flatten (Flatten)           (None, 105000)            0         \n",
      "                                                                 \n",
      " dense (Dense)               (None, 128)               13440128  \n",
      "                                                                 \n",
      " dropout (Dropout)           (None, 128)               0         \n",
      "                                                                 \n",
      " dense_1 (Dense)             (None, 64)                8256      \n",
      "                                                                 \n",
      " dropout_1 (Dropout)         (None, 64)                0         \n",
      "                                                                 \n",
      " dense_2 (Dense)             (None, 3)                 195       \n",
      "                                                                 \n",
      "=================================================================\n",
      "Total params: 13448579 (51.30 MB)\n",
      "Trainable params: 13448579 (51.30 MB)\n",
      "Non-trainable params: 0 (0.00 Byte)\n",
      "_________________________________________________________________\n"
     ]
    }
   ],
   "source": [
    "import tensorflow as tf\n",
    "from tensorflow import keras\n",
    "\n",
    "# # Define the model\n",
    "# model = keras.Sequential()\n",
    "\n",
    "# # Flatten the input data\n",
    "# model.add(keras.layers.Flatten(input_shape=(1000, 50)))\n",
    "\n",
    "# # Add a couple of dense layers\n",
    "# model.add(keras.layers.Dense(128, activation='relu'))\n",
    "# model.add(keras.layers.Dense(64, activation='relu'))\n",
    "\n",
    "# # Output layer with 4 units (assuming you have 4 classes for classification)\n",
    "# model.add(keras.layers.Dense(3, activation='softmax'))\n",
    "\n",
    "# # Compile the model\n",
    "# model.compile(optimizer='adam', loss='categorical_crossentropy', metrics=['accuracy'])\n",
    "\n",
    "# # Print the model summary\n",
    "# model.summary()\n",
    "\n",
    "\n",
    "# model = keras.Sequential()\n",
    "# model.add(keras.layers.Flatten(input_shape=(1000, 50)))\n",
    "# model.add(keras.layers.Dense(128, activation='relu'))\n",
    "# model.add(keras.layers.Dropout(0.5))  # Adding dropout for regularization\n",
    "# model.add(keras.layers.Dense(64, activation='relu'))\n",
    "# model.add(keras.layers.Dropout(0.5))\n",
    "# model.add(keras.layers.Dense(3, activation='softmax'))\n",
    "\n",
    "# # Compile the model with a lower learning rate\n",
    "# model.compile(optimizer=keras.optimizers.Adam(learning_rate=0.001),\n",
    "#               loss='categorical_crossentropy',\n",
    "#               metrics=['accuracy'])\n",
    "# early_stopping = keras.callbacks.EarlyStopping(monitor='val_loss', patience=3, restore_best_weights=True)\n",
    "\n",
    "#model.summary()\n",
    "model = keras.Sequential()\n",
    "model.add(keras.layers.Flatten(input_shape=(1000, 105)))\n",
    "model.add(keras.layers.Dense(128, activation='relu'))\n",
    "model.add(keras.layers.Dropout(0.5))  # Adding dropout for regularization\n",
    "model.add(keras.layers.Dense(64, activation='relu'))\n",
    "model.add(keras.layers.Dropout(0.5))\n",
    "model.add(keras.layers.Dense(3, activation='softmax'))\n",
    "\n",
    "model.compile(optimizer=keras.optimizers.Adam(learning_rate=0.001),\n",
    "              loss='categorical_crossentropy',\n",
    "              metrics=['accuracy'])\n",
    "\n",
    "model.summary()\n",
    "\n",
    "# model = keras.Sequential([\n",
    "#     layers.Flatten(input_shape=(1000, 50)),\n",
    "#     layers.BatchNormalization(),\n",
    "    \n",
    "#     layers.Dense(256, activation='relu'),\n",
    "#     layers.Dropout(0.5),\n",
    "\n",
    "#     layers.Dense(128, activation='relu'),\n",
    "#     layers.Dropout(0.5),\n",
    "\n",
    "#     layers.Dense(64, activation='relu'),\n",
    "#     layers.Dropout(0.5),\n",
    "\n",
    "#     layers.Dense(3, activation='softmax')\n",
    "# ])\n",
    "\n",
    "# # Use a different optimizer (SGD) and add learning rate scheduling\n",
    "# opt = keras.optimizers.SGD(learning_rate=0.01, momentum=0.9)\n",
    "# model.compile(optimizer=opt,\n",
    "#               loss='categorical_crossentropy',\n",
    "#               metrics=['accuracy'])\n",
    "\n",
    "# model.summary()"
   ]
  },
  {
   "cell_type": "code",
   "execution_count": 6,
   "id": "c718f1a7-3f27-47f9-afc3-95c58d8ad2b4",
   "metadata": {},
   "outputs": [
    {
     "name": "stdout",
     "output_type": "stream",
     "text": [
      "Epoch 1/50\n",
      "216/216 [==============================] - 34s 153ms/step - loss: 0.1721 - accuracy: 0.9891 - val_loss: 1.9483e-04 - val_accuracy: 1.0000\n",
      "Epoch 2/50\n",
      "216/216 [==============================] - 30s 138ms/step - loss: 3.4397e-04 - accuracy: 1.0000 - val_loss: 3.5603e-05 - val_accuracy: 1.0000\n",
      "Epoch 3/50\n",
      "216/216 [==============================] - 29s 134ms/step - loss: 1.5357e-04 - accuracy: 1.0000 - val_loss: 1.1896e-05 - val_accuracy: 1.0000\n",
      "Epoch 4/50\n",
      "216/216 [==============================] - 30s 141ms/step - loss: 9.5874e-05 - accuracy: 1.0000 - val_loss: 5.2717e-06 - val_accuracy: 1.0000\n",
      "Epoch 5/50\n",
      "216/216 [==============================] - 32s 148ms/step - loss: 6.4027e-05 - accuracy: 1.0000 - val_loss: 2.7196e-06 - val_accuracy: 1.0000\n",
      "Epoch 6/50\n",
      "216/216 [==============================] - 30s 140ms/step - loss: 4.8139e-05 - accuracy: 1.0000 - val_loss: 1.5580e-06 - val_accuracy: 1.0000\n",
      "Epoch 7/50\n",
      "216/216 [==============================] - 32s 148ms/step - loss: 3.4653e-05 - accuracy: 1.0000 - val_loss: 9.7509e-07 - val_accuracy: 1.0000\n",
      "Epoch 8/50\n",
      "216/216 [==============================] - 30s 140ms/step - loss: 3.2660e-05 - accuracy: 1.0000 - val_loss: 6.0144e-07 - val_accuracy: 1.0000\n",
      "Epoch 9/50\n",
      "216/216 [==============================] - 30s 141ms/step - loss: 2.4445e-05 - accuracy: 1.0000 - val_loss: 3.7518e-07 - val_accuracy: 1.0000\n",
      "Epoch 10/50\n",
      "216/216 [==============================] - 31s 142ms/step - loss: 2.2609e-05 - accuracy: 1.0000 - val_loss: 2.5074e-07 - val_accuracy: 1.0000\n",
      "Epoch 11/50\n",
      "216/216 [==============================] - 31s 144ms/step - loss: 1.6559e-05 - accuracy: 1.0000 - val_loss: 1.7322e-07 - val_accuracy: 1.0000\n",
      "Epoch 12/50\n",
      "216/216 [==============================] - 30s 139ms/step - loss: 1.7186e-05 - accuracy: 1.0000 - val_loss: 1.2932e-07 - val_accuracy: 1.0000\n",
      "Epoch 13/50\n",
      "216/216 [==============================] - 31s 142ms/step - loss: 1.4095e-05 - accuracy: 1.0000 - val_loss: 8.5550e-08 - val_accuracy: 1.0000\n",
      "Epoch 14/50\n",
      "216/216 [==============================] - 30s 140ms/step - loss: 1.2022e-05 - accuracy: 1.0000 - val_loss: 6.0576e-08 - val_accuracy: 1.0000\n",
      "Epoch 15/50\n",
      "216/216 [==============================] - 31s 144ms/step - loss: 8.0483e-06 - accuracy: 1.0000 - val_loss: 4.4424e-08 - val_accuracy: 1.0000\n",
      "Epoch 16/50\n",
      "216/216 [==============================] - 30s 139ms/step - loss: 8.0363e-06 - accuracy: 1.0000 - val_loss: 2.8371e-08 - val_accuracy: 1.0000\n",
      "Epoch 17/50\n",
      "216/216 [==============================] - 31s 143ms/step - loss: 7.8276e-06 - accuracy: 1.0000 - val_loss: 1.8894e-08 - val_accuracy: 1.0000\n",
      "Epoch 18/50\n",
      "216/216 [==============================] - 36s 167ms/step - loss: 6.4847e-06 - accuracy: 1.0000 - val_loss: 1.5835e-08 - val_accuracy: 1.0000\n",
      "Epoch 19/50\n",
      "216/216 [==============================] - 57s 262ms/step - loss: 7.0014e-06 - accuracy: 1.0000 - val_loss: 1.0927e-08 - val_accuracy: 1.0000\n",
      "Epoch 20/50\n",
      "216/216 [==============================] - 31s 145ms/step - loss: 9.4439e-06 - accuracy: 1.0000 - val_loss: 1.2358e-08 - val_accuracy: 1.0000\n",
      "Epoch 21/50\n",
      "216/216 [==============================] - 31s 144ms/step - loss: 5.4276e-06 - accuracy: 1.0000 - val_loss: 8.1857e-09 - val_accuracy: 1.0000\n",
      "Epoch 22/50\n",
      "216/216 [==============================] - 31s 142ms/step - loss: 3.9409e-06 - accuracy: 1.0000 - val_loss: 7.1724e-09 - val_accuracy: 1.0000\n",
      "Epoch 23/50\n",
      "216/216 [==============================] - 32s 146ms/step - loss: 3.2153e-06 - accuracy: 1.0000 - val_loss: 6.1790e-09 - val_accuracy: 1.0000\n",
      "Epoch 24/50\n",
      "216/216 [==============================] - 32s 147ms/step - loss: 2.8697e-06 - accuracy: 1.0000 - val_loss: 5.0664e-09 - val_accuracy: 1.0000\n",
      "Epoch 25/50\n",
      "216/216 [==============================] - 32s 146ms/step - loss: 2.8772e-06 - accuracy: 1.0000 - val_loss: 3.2584e-09 - val_accuracy: 1.0000\n",
      "Epoch 26/50\n",
      "216/216 [==============================] - 32s 147ms/step - loss: 2.3074e-06 - accuracy: 1.0000 - val_loss: 2.6425e-09 - val_accuracy: 1.0000\n",
      "Epoch 27/50\n",
      "216/216 [==============================] - 30s 140ms/step - loss: 2.2904e-06 - accuracy: 1.0000 - val_loss: 1.8676e-09 - val_accuracy: 1.0000\n",
      "Epoch 28/50\n",
      "216/216 [==============================] - 31s 145ms/step - loss: 1.5297e-06 - accuracy: 1.0000 - val_loss: 1.5895e-09 - val_accuracy: 1.0000\n",
      "Epoch 29/50\n",
      "216/216 [==============================] - 31s 141ms/step - loss: 1.4921e-06 - accuracy: 1.0000 - val_loss: 1.5497e-09 - val_accuracy: 1.0000\n",
      "Epoch 30/50\n",
      "216/216 [==============================] - 29s 132ms/step - loss: 1.3921e-06 - accuracy: 1.0000 - val_loss: 1.3312e-09 - val_accuracy: 1.0000\n",
      "Epoch 31/50\n",
      "216/216 [==============================] - 31s 145ms/step - loss: 1.4326e-06 - accuracy: 1.0000 - val_loss: 8.1460e-10 - val_accuracy: 1.0000\n",
      "Epoch 32/50\n",
      "216/216 [==============================] - 30s 137ms/step - loss: 1.0609e-06 - accuracy: 1.0000 - val_loss: 6.7552e-10 - val_accuracy: 1.0000\n",
      "Epoch 33/50\n",
      "216/216 [==============================] - 30s 137ms/step - loss: 9.2405e-07 - accuracy: 1.0000 - val_loss: 5.7618e-10 - val_accuracy: 1.0000\n",
      "Epoch 34/50\n",
      "216/216 [==============================] - 30s 137ms/step - loss: 1.1642e-06 - accuracy: 1.0000 - val_loss: 3.3776e-10 - val_accuracy: 1.0000\n",
      "Epoch 35/50\n",
      "216/216 [==============================] - 29s 135ms/step - loss: 8.1591e-07 - accuracy: 1.0000 - val_loss: 3.1789e-10 - val_accuracy: 1.0000\n",
      "Epoch 36/50\n",
      "216/216 [==============================] - 27s 126ms/step - loss: 8.5820e-07 - accuracy: 1.0000 - val_loss: 2.9802e-10 - val_accuracy: 1.0000\n",
      "Epoch 37/50\n",
      "216/216 [==============================] - 29s 133ms/step - loss: 6.8274e-07 - accuracy: 1.0000 - val_loss: 3.5763e-10 - val_accuracy: 1.0000\n",
      "Epoch 38/50\n",
      "216/216 [==============================] - 29s 135ms/step - loss: 6.0114e-07 - accuracy: 1.0000 - val_loss: 3.9736e-10 - val_accuracy: 1.0000\n",
      "Epoch 39/50\n",
      "216/216 [==============================] - 29s 133ms/step - loss: 7.9170e-07 - accuracy: 1.0000 - val_loss: 4.5697e-10 - val_accuracy: 1.0000\n",
      "Epoch 40/50\n",
      "216/216 [==============================] - 29s 134ms/step - loss: 5.3061e-07 - accuracy: 1.0000 - val_loss: 3.3776e-10 - val_accuracy: 1.0000\n",
      "Epoch 41/50\n",
      "216/216 [==============================] - 30s 140ms/step - loss: 4.4293e-07 - accuracy: 1.0000 - val_loss: 3.1789e-10 - val_accuracy: 1.0000\n",
      "Epoch 42/50\n",
      "216/216 [==============================] - 27s 127ms/step - loss: 6.9877e-07 - accuracy: 1.0000 - val_loss: 6.1591e-10 - val_accuracy: 1.0000\n",
      "Epoch 43/50\n",
      "216/216 [==============================] - 26s 119ms/step - loss: 3.5733e-07 - accuracy: 1.0000 - val_loss: 3.5763e-10 - val_accuracy: 1.0000\n",
      "Epoch 44/50\n",
      "216/216 [==============================] - 27s 126ms/step - loss: 2.5052e-07 - accuracy: 1.0000 - val_loss: 3.1789e-10 - val_accuracy: 1.0000\n",
      "Epoch 45/50\n",
      "216/216 [==============================] - 27s 124ms/step - loss: 1.9871e-07 - accuracy: 1.0000 - val_loss: 2.5829e-10 - val_accuracy: 1.0000\n",
      "Epoch 46/50\n",
      "216/216 [==============================] - 26s 120ms/step - loss: 4.0248e-07 - accuracy: 1.0000 - val_loss: 1.7881e-10 - val_accuracy: 1.0000\n",
      "Epoch 47/50\n",
      "216/216 [==============================] - 26s 119ms/step - loss: 2.3701e-07 - accuracy: 1.0000 - val_loss: 1.7881e-10 - val_accuracy: 1.0000\n",
      "Epoch 48/50\n",
      "216/216 [==============================] - 27s 123ms/step - loss: 2.4072e-07 - accuracy: 1.0000 - val_loss: 2.7815e-10 - val_accuracy: 1.0000\n",
      "Epoch 49/50\n",
      "216/216 [==============================] - 26s 119ms/step - loss: 1.3106e-07 - accuracy: 1.0000 - val_loss: 2.9802e-10 - val_accuracy: 1.0000\n",
      "Epoch 50/50\n",
      "216/216 [==============================] - 27s 124ms/step - loss: 3.6651e-07 - accuracy: 1.0000 - val_loss: 1.9669e-09 - val_accuracy: 1.0000\n"
     ]
    }
   ],
   "source": [
    "# Set the number of epochs\n",
    "num_epochs = 50\n",
    "\n",
    "# Train the model\n",
    "lr_scheduler = keras.callbacks.ReduceLROnPlateau(monitor='val_loss', factor=0.2, patience=2, min_lr=1e-5)\n",
    "\n",
    "#history = model1.fit(train_reduced_dataset, callbacks=[lr_scheduler],epochs=num_epochs, validation_data=val_reduced_dataset)\n",
    "history = model.fit(train_data,epochs=num_epochs, validation_data=predict_data)"
   ]
  },
  {
   "cell_type": "code",
   "execution_count": 7,
   "id": "34331733-29ce-47f4-ba28-9a6e1294e448",
   "metadata": {},
   "outputs": [
    {
     "name": "stdout",
     "output_type": "stream",
     "text": [
      "12/12 [==============================] - 2s 129ms/step - loss: 0.0000e+00 - accuracy: 1.0000\n",
      "Test Accuracy: 100.00%\n"
     ]
    }
   ],
   "source": [
    "# Evaluate the model on your test data using the dataset with 'comp_labels' only\n",
    "test_loss, test_accuracy = model.evaluate(test_data)\n",
    "print(\"Test Accuracy: {:.2f}%\".format(test_accuracy * 100))"
   ]
  },
  {
   "cell_type": "code",
   "execution_count": 60,
   "id": "39006bc4-8083-4f61-8e24-a1b4f8be1916",
   "metadata": {},
   "outputs": [
    {
     "name": "stdout",
     "output_type": "stream",
     "text": [
      "Collecting sklearn\n",
      "  Using cached sklearn-0.0.post11.tar.gz (3.6 kB)\n",
      "\u001b[31m    ERROR: Command errored out with exit status 1:\n",
      "     command: /scratch/user/swati/pip_envs/my_notebook-Python/3.8.2/bin/python -c 'import sys, setuptools, tokenize; sys.argv[0] = '\"'\"'/tmp/job.9351895/pip-install-7799e_kd/sklearn/setup.py'\"'\"'; __file__='\"'\"'/tmp/job.9351895/pip-install-7799e_kd/sklearn/setup.py'\"'\"';f=getattr(tokenize, '\"'\"'open'\"'\"', open)(__file__);code=f.read().replace('\"'\"'\\r\\n'\"'\"', '\"'\"'\\n'\"'\"');f.close();exec(compile(code, __file__, '\"'\"'exec'\"'\"'))' egg_info --egg-base /tmp/job.9351895/pip-install-7799e_kd/sklearn/pip-egg-info\n",
      "         cwd: /tmp/job.9351895/pip-install-7799e_kd/sklearn/\n",
      "    Complete output (18 lines):\n",
      "    The 'sklearn' PyPI package is deprecated, use 'scikit-learn'\n",
      "    rather than 'sklearn' for pip commands.\n",
      "    \n",
      "    Here is how to fix this error in the main use cases:\n",
      "    - use 'pip install scikit-learn' rather than 'pip install sklearn'\n",
      "    - replace 'sklearn' by 'scikit-learn' in your pip requirements files\n",
      "      (requirements.txt, setup.py, setup.cfg, Pipfile, etc ...)\n",
      "    - if the 'sklearn' package is used by one of your dependencies,\n",
      "      it would be great if you take some time to track which package uses\n",
      "      'sklearn' instead of 'scikit-learn' and report it to their issue tracker\n",
      "    - as a last resort, set the environment variable\n",
      "      SKLEARN_ALLOW_DEPRECATED_SKLEARN_PACKAGE_INSTALL=True to avoid this error\n",
      "    \n",
      "    More information is available at\n",
      "    https://github.com/scikit-learn/sklearn-pypi-package\n",
      "    \n",
      "    If the previous advice does not cover your use case, feel free to report it at\n",
      "    https://github.com/scikit-learn/sklearn-pypi-package/issues/new\n",
      "    ----------------------------------------\u001b[0m\n",
      "\u001b[31mERROR: Command errored out with exit status 1: python setup.py egg_info Check the logs for full command output.\u001b[0m\n",
      "\u001b[33mWARNING: You are using pip version 20.0.2; however, version 23.3.1 is available.\n",
      "You should consider upgrading via the '/scratch/user/swati/pip_envs/my_notebook-Python/3.8.2/bin/python -m pip install --upgrade pip' command.\u001b[0m\n",
      "Note: you may need to restart the kernel to use updated packages.\n"
     ]
    }
   ],
   "source": [
    "pip install sklearn"
   ]
  },
  {
   "cell_type": "code",
   "execution_count": 61,
   "id": "f51b8261-739f-49d8-a457-2c02311591c4",
   "metadata": {},
   "outputs": [
    {
     "name": "stdout",
     "output_type": "stream",
     "text": [
      "Requirement already satisfied: scikit-learn in /scratch/user/swati/pip_envs/my_notebook-Python/3.8.2/lib/python3.8/site-packages (1.3.2)\n",
      "Requirement already satisfied: numpy<2.0,>=1.17.3 in /scratch/user/swati/pip_envs/my_notebook-Python/3.8.2/lib/python3.8/site-packages (from scikit-learn) (1.24.3)\n",
      "Requirement already satisfied: threadpoolctl>=2.0.0 in /scratch/user/swati/pip_envs/my_notebook-Python/3.8.2/lib/python3.8/site-packages (from scikit-learn) (3.2.0)\n",
      "Requirement already satisfied: joblib>=1.1.1 in /scratch/user/swati/pip_envs/my_notebook-Python/3.8.2/lib/python3.8/site-packages (from scikit-learn) (1.3.2)\n",
      "Requirement already satisfied: scipy>=1.5.0 in /scratch/user/swati/pip_envs/my_notebook-Python/3.8.2/lib/python3.8/site-packages (from scikit-learn) (1.10.1)\n",
      "\u001b[33mWARNING: You are using pip version 20.0.2; however, version 23.3.1 is available.\n",
      "You should consider upgrading via the '/scratch/user/swati/pip_envs/my_notebook-Python/3.8.2/bin/python -m pip install --upgrade pip' command.\u001b[0m\n",
      "Note: you may need to restart the kernel to use updated packages.\n"
     ]
    }
   ],
   "source": [
    "pip install scikit-learn"
   ]
  },
  {
   "cell_type": "code",
   "execution_count": 80,
   "id": "aedddd5b-7f91-484d-8a9a-a1080cc7d412",
   "metadata": {},
   "outputs": [
    {
     "name": "stdout",
     "output_type": "stream",
     "text": [
      "numpy                         1.24.3    \n",
      "tensorflow                    2.13.1    \n",
      "tensorflow-estimator          2.13.0    \n",
      "tensorflow-io-gcs-filesystem  0.34.0    \n",
      "\u001b[33mWARNING: You are using pip version 20.0.2; however, version 23.3.1 is available.\n",
      "You should consider upgrading via the '/scratch/user/swati/pip_envs/my_notebook-Python/3.8.2/bin/python -m pip install --upgrade pip' command.\u001b[0m\n"
     ]
    }
   ],
   "source": [
    "!pip list | grep 'tensorflow\\|numpy'"
   ]
  },
  {
   "cell_type": "code",
   "execution_count": null,
   "id": "b40d44af-1b22-4771-875b-b4db710d36d1",
   "metadata": {},
   "outputs": [],
   "source": []
  }
 ],
 "metadata": {
  "kernelspec": {
   "display_name": "Python 3 (ipykernel)",
   "language": "python",
   "name": "python3"
  },
  "language_info": {
   "codemirror_mode": {
    "name": "ipython",
    "version": 3
   },
   "file_extension": ".py",
   "mimetype": "text/x-python",
   "name": "python",
   "nbconvert_exporter": "python",
   "pygments_lexer": "ipython3",
   "version": "3.8.2"
  }
 },
 "nbformat": 4,
 "nbformat_minor": 5
}
